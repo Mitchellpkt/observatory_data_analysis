{
 "cells": [
  {
   "cell_type": "markdown",
   "metadata": {},
   "source": [
    "# Zcash Observatory data\n",
    "\n",
    "Mitchell Krawiec-Thayer and Pranav Thirunavukkarasu\n",
    "\n",
    "April 2020\n",
    "\n",
    "Observatory R & D at [Insight](https://www.insightconsensus.com) supported by the [Zcash Foundation](https://grants.zfnd.org/proposals/21786689)"
   ]
  },
  {
   "cell_type": "markdown",
   "metadata": {},
   "source": [
    "## Analysis Parameters"
   ]
  },
  {
   "cell_type": "code",
   "execution_count": 1,
   "metadata": {},
   "outputs": [],
   "source": [
    "path_to_block_data = 'blocks_20200408.csv'\n",
    "output_filename = 'augmented_data.csv'\n",
    "block_time_s = 75\n",
    "sync_cutoff = 10000 #ms\n",
    "q_save_output = 1"
   ]
  },
  {
   "cell_type": "markdown",
   "metadata": {},
   "source": [
    "## Import libraries"
   ]
  },
  {
   "cell_type": "code",
   "execution_count": 2,
   "metadata": {},
   "outputs": [],
   "source": [
    "import numpy as np\n",
    "import pandas as pd\n",
    "import matplotlib.pyplot as plt"
   ]
  },
  {
   "cell_type": "markdown",
   "metadata": {},
   "source": [
    "## Import data"
   ]
  },
  {
   "cell_type": "code",
   "execution_count": 3,
   "metadata": {},
   "outputs": [
    {
     "data": {
      "text/html": [
       "<div>\n",
       "<style scoped>\n",
       "    .dataframe tbody tr th:only-of-type {\n",
       "        vertical-align: middle;\n",
       "    }\n",
       "\n",
       "    .dataframe tbody tr th {\n",
       "        vertical-align: top;\n",
       "    }\n",
       "\n",
       "    .dataframe thead th {\n",
       "        text-align: right;\n",
       "    }\n",
       "</style>\n",
       "<table border=\"1\" class=\"dataframe\">\n",
       "  <thead>\n",
       "    <tr style=\"text-align: right;\">\n",
       "      <th></th>\n",
       "      <th>block_height</th>\n",
       "      <th>miner_time</th>\n",
       "      <th>valid_time</th>\n",
       "    </tr>\n",
       "  </thead>\n",
       "  <tbody>\n",
       "    <tr>\n",
       "      <th>count</th>\n",
       "      <td>10281.000000</td>\n",
       "      <td>1.028100e+04</td>\n",
       "      <td>1.028100e+04</td>\n",
       "    </tr>\n",
       "    <tr>\n",
       "      <th>mean</th>\n",
       "      <td>781900.051649</td>\n",
       "      <td>1.585770e+09</td>\n",
       "      <td>1.585770e+12</td>\n",
       "    </tr>\n",
       "    <tr>\n",
       "      <th>std</th>\n",
       "      <td>3434.295589</td>\n",
       "      <td>2.587229e+05</td>\n",
       "      <td>2.587500e+08</td>\n",
       "    </tr>\n",
       "    <tr>\n",
       "      <th>min</th>\n",
       "      <td>776372.000000</td>\n",
       "      <td>1.585354e+09</td>\n",
       "      <td>1.585354e+12</td>\n",
       "    </tr>\n",
       "    <tr>\n",
       "      <th>25%</th>\n",
       "      <td>778941.000000</td>\n",
       "      <td>1.585547e+09</td>\n",
       "      <td>1.585547e+12</td>\n",
       "    </tr>\n",
       "    <tr>\n",
       "      <th>50%</th>\n",
       "      <td>781506.000000</td>\n",
       "      <td>1.585741e+09</td>\n",
       "      <td>1.585741e+12</td>\n",
       "    </tr>\n",
       "    <tr>\n",
       "      <th>75%</th>\n",
       "      <td>785262.000000</td>\n",
       "      <td>1.586023e+09</td>\n",
       "      <td>1.586024e+12</td>\n",
       "    </tr>\n",
       "    <tr>\n",
       "      <th>max</th>\n",
       "      <td>787835.000000</td>\n",
       "      <td>1.586218e+09</td>\n",
       "      <td>1.586219e+12</td>\n",
       "    </tr>\n",
       "  </tbody>\n",
       "</table>\n",
       "</div>"
      ],
      "text/plain": [
       "        block_height    miner_time    valid_time\n",
       "count   10281.000000  1.028100e+04  1.028100e+04\n",
       "mean   781900.051649  1.585770e+09  1.585770e+12\n",
       "std      3434.295589  2.587229e+05  2.587500e+08\n",
       "min    776372.000000  1.585354e+09  1.585354e+12\n",
       "25%    778941.000000  1.585547e+09  1.585547e+12\n",
       "50%    781506.000000  1.585741e+09  1.585741e+12\n",
       "75%    785262.000000  1.586023e+09  1.586024e+12\n",
       "max    787835.000000  1.586218e+09  1.586219e+12"
      ]
     },
     "execution_count": 3,
     "metadata": {},
     "output_type": "execute_result"
    }
   ],
   "source": [
    "df = pd.read_csv('blocks_20200408.csv') # Import to data frame\n",
    "df.describe() # High level summary of the data set"
   ]
  },
  {
   "cell_type": "code",
   "execution_count": 4,
   "metadata": {},
   "outputs": [
    {
     "data": {
      "text/html": [
       "<div>\n",
       "<style scoped>\n",
       "    .dataframe tbody tr th:only-of-type {\n",
       "        vertical-align: middle;\n",
       "    }\n",
       "\n",
       "    .dataframe tbody tr th {\n",
       "        vertical-align: top;\n",
       "    }\n",
       "\n",
       "    .dataframe thead th {\n",
       "        text-align: right;\n",
       "    }\n",
       "</style>\n",
       "<table border=\"1\" class=\"dataframe\">\n",
       "  <thead>\n",
       "    <tr style=\"text-align: right;\">\n",
       "      <th></th>\n",
       "      <th>block_height</th>\n",
       "      <th>block_hash</th>\n",
       "      <th>prev_hash</th>\n",
       "      <th>miner_target</th>\n",
       "      <th>miner_time</th>\n",
       "      <th>valid_time</th>\n",
       "      <th>transaction_hashes</th>\n",
       "      <th>inv_timestamps</th>\n",
       "    </tr>\n",
       "  </thead>\n",
       "  <tbody>\n",
       "    <tr>\n",
       "      <th>0</th>\n",
       "      <td>777350.0</td>\n",
       "      <td>00000000014a976f53c53c63a2d52c0246e4c9ecf260b9...</td>\n",
       "      <td>0000000001afacebda04eb4ef20b46b34715d042473409...</td>\n",
       "      <td>0000000002ffff00000000000000000000000000000000...</td>\n",
       "      <td>1.585428e+09</td>\n",
       "      <td>1.585428e+12</td>\n",
       "      <td>269090c8fa46f72c3090803a7ec5231d3e3f73c0035f3d...</td>\n",
       "      <td>1585427780187;1585427780195;1585427780309;1585...</td>\n",
       "    </tr>\n",
       "    <tr>\n",
       "      <th>1</th>\n",
       "      <td>776540.0</td>\n",
       "      <td>00000000016dbb649d01642fb8603d9cfb3337a38c3c36...</td>\n",
       "      <td>00000000008855524979caa571b3fe7031d3e769eb6190...</td>\n",
       "      <td>0000000002fc4d00000000000000000000000000000000...</td>\n",
       "      <td>1.585366e+09</td>\n",
       "      <td>1.585366e+12</td>\n",
       "      <td>bd093b58b615184b82c4d7d4c1395cf0e6477470830fa3...</td>\n",
       "      <td>1585366448977;1585366448944;1585366449144;1585...</td>\n",
       "    </tr>\n",
       "    <tr>\n",
       "      <th>2</th>\n",
       "      <td>777066.0</td>\n",
       "      <td>00000000007826f5d75ea2268aa6703ff3087a1419daa7...</td>\n",
       "      <td>00000000007b4d4a898c18c291243e39998e52bcf67795...</td>\n",
       "      <td>0000000002e0d600000000000000000000000000000000...</td>\n",
       "      <td>1.585406e+09</td>\n",
       "      <td>1.585406e+12</td>\n",
       "      <td>09821279cf3b13cac66fe4b6e57f3778f4621cee083a02...</td>\n",
       "      <td>1585406005599;1585406005554;1585406005524;1585...</td>\n",
       "    </tr>\n",
       "    <tr>\n",
       "      <th>3</th>\n",
       "      <td>777264.0</td>\n",
       "      <td>00000000031fac7a7d902a87dc887375b83fd64466304a...</td>\n",
       "      <td>00000000002fc315a0c67eb4b1c26e7c8b6f5055e3f1cf...</td>\n",
       "      <td>00000000033fdd00000000000000000000000000000000...</td>\n",
       "      <td>1.585422e+09</td>\n",
       "      <td>1.585422e+12</td>\n",
       "      <td>0e61aaff225ead8a7d175853a2a9c161e1765bae525bbf...</td>\n",
       "      <td>1585421660806;1585421660865;1585421660793;1585...</td>\n",
       "    </tr>\n",
       "    <tr>\n",
       "      <th>4</th>\n",
       "      <td>777150.0</td>\n",
       "      <td>0000000002a6698519dc8abf12e82d2d74e4d4518243d4...</td>\n",
       "      <td>0000000000bb617c3c9603ba991dce9feb5df9265697ed...</td>\n",
       "      <td>0000000002c29f00000000000000000000000000000000...</td>\n",
       "      <td>1.585412e+09</td>\n",
       "      <td>1.585412e+12</td>\n",
       "      <td>a08776d8cdeafbc4f675fcaf5a9dd73bc509249fff6d25...</td>\n",
       "      <td>1585412301058;1585412301031;1585412301126;1585...</td>\n",
       "    </tr>\n",
       "  </tbody>\n",
       "</table>\n",
       "</div>"
      ],
      "text/plain": [
       "   block_height                                         block_hash  \\\n",
       "0      777350.0  00000000014a976f53c53c63a2d52c0246e4c9ecf260b9...   \n",
       "1      776540.0  00000000016dbb649d01642fb8603d9cfb3337a38c3c36...   \n",
       "2      777066.0  00000000007826f5d75ea2268aa6703ff3087a1419daa7...   \n",
       "3      777264.0  00000000031fac7a7d902a87dc887375b83fd64466304a...   \n",
       "4      777150.0  0000000002a6698519dc8abf12e82d2d74e4d4518243d4...   \n",
       "\n",
       "                                           prev_hash  \\\n",
       "0  0000000001afacebda04eb4ef20b46b34715d042473409...   \n",
       "1  00000000008855524979caa571b3fe7031d3e769eb6190...   \n",
       "2  00000000007b4d4a898c18c291243e39998e52bcf67795...   \n",
       "3  00000000002fc315a0c67eb4b1c26e7c8b6f5055e3f1cf...   \n",
       "4  0000000000bb617c3c9603ba991dce9feb5df9265697ed...   \n",
       "\n",
       "                                        miner_target    miner_time  \\\n",
       "0  0000000002ffff00000000000000000000000000000000...  1.585428e+09   \n",
       "1  0000000002fc4d00000000000000000000000000000000...  1.585366e+09   \n",
       "2  0000000002e0d600000000000000000000000000000000...  1.585406e+09   \n",
       "3  00000000033fdd00000000000000000000000000000000...  1.585422e+09   \n",
       "4  0000000002c29f00000000000000000000000000000000...  1.585412e+09   \n",
       "\n",
       "     valid_time                                 transaction_hashes  \\\n",
       "0  1.585428e+12  269090c8fa46f72c3090803a7ec5231d3e3f73c0035f3d...   \n",
       "1  1.585366e+12  bd093b58b615184b82c4d7d4c1395cf0e6477470830fa3...   \n",
       "2  1.585406e+12  09821279cf3b13cac66fe4b6e57f3778f4621cee083a02...   \n",
       "3  1.585422e+12  0e61aaff225ead8a7d175853a2a9c161e1765bae525bbf...   \n",
       "4  1.585412e+12  a08776d8cdeafbc4f675fcaf5a9dd73bc509249fff6d25...   \n",
       "\n",
       "                                      inv_timestamps  \n",
       "0  1585427780187;1585427780195;1585427780309;1585...  \n",
       "1  1585366448977;1585366448944;1585366449144;1585...  \n",
       "2  1585406005599;1585406005554;1585406005524;1585...  \n",
       "3  1585421660806;1585421660865;1585421660793;1585...  \n",
       "4  1585412301058;1585412301031;1585412301126;1585...  "
      ]
     },
     "execution_count": 4,
     "metadata": {},
     "output_type": "execute_result"
    }
   ],
   "source": [
    "df.head() # Take a peeke to make sure it imported correctly"
   ]
  },
  {
   "cell_type": "markdown",
   "metadata": {},
   "source": [
    "## Feature Engineering"
   ]
  },
  {
   "cell_type": "markdown",
   "metadata": {},
   "source": [
    "Add a handful of calculated columns"
   ]
  },
  {
   "cell_type": "code",
   "execution_count": 5,
   "metadata": {},
   "outputs": [],
   "source": [
    "fork_heights = set()\n",
    "dupe_count_buffer = []\n",
    "apparent_latency_buffer = []\n",
    "peer_count_buffer = []\n",
    "raw_prop_buffer = []\n",
    "prop_buffer = []\n",
    "txn_count_buffer = []\n",
    "bounded_times_list = []\n",
    "first_heard_list = []\n",
    "\n",
    "for r in range(len(df)):\n",
    "    \n",
    "    # Grab height\n",
    "    this_height = df.iloc[r].block_height\n",
    "    \n",
    "    # How many versions were received at this_height?\n",
    "    this_count = len(df[df['block_height'] == this_height])\n",
    "    dupe_count_buffer.append(this_count)\n",
    "    if this_count > 1:\n",
    "        fork_heights.add(int(this_height)) # note this makes duplicates, so remember to unique() later\n",
    "\n",
    "    raw_timestamps = df.iloc[r].inv_timestamps\n",
    "    # If multiple peers, inv_timestamps is parsed as a string, and must be split into list of integers\n",
    "    if isinstance(raw_timestamps, str):\n",
    "        peer_timestamps = [int(i) for i in raw_timestamps.split(';')] # split up the timestamps\n",
    "        peer_count_buffer.append(int(len(peer_timestamps))) # record peer count\n",
    "        apparent_latency_buffer.append(int(min(peer_timestamps) - 1000*df.iloc[r].miner_time))\n",
    "        raw_prop_time = np.max(peer_timestamps)-np.min(peer_timestamps)\n",
    "        raw_prop_buffer.append(raw_prop_time)\n",
    "        first_heard_list.append(int(np.min(peer_timestamps)))\n",
    "        if raw_prop_time < sync_cutoff:\n",
    "            prop_buffer.append(raw_prop_time)\n",
    "            bounded_times = peer_timestamps\n",
    "        else:\n",
    "            # Throw out the high timestamp and try again. This a temporary fix\n",
    "            peer_offset_removed = [x - min(peer_timestamps) for x in peer_timestamps]\n",
    "            bounded_times = [p for p in peer_offset_removed if p < sync_cutoff]\n",
    "            prop_buffer.append(np.max(bounded_times) - np.min(bounded_times))\n",
    "    else:\n",
    "        if np.isnan(raw_timestamps):\n",
    "            # Did not catch this live from any peers\n",
    "            peer_timestamps = np.nan \n",
    "            peer_count_buffer.append(np.nan)\n",
    "            raw_prop_buffer.append(np.nan)\n",
    "            prop_buffer.append(np.nan)\n",
    "            apparent_latency_buffer.append(np.nan)\n",
    "            bounded_times = (np.nan)\n",
    "            first_heard_list.append(np.nan)\n",
    "        else:\n",
    "            # Caught one copy, parsed as a float\n",
    "            peer_timestamps = int(raw_timestamps)\n",
    "            peer_count_buffer.append(1)\n",
    "            raw_prop_buffer.append(np.nan)\n",
    "            prop_buffer.append(np.nan)\n",
    "            apparent_latency_buffer.append(peer_timestamps - 1000*df.iloc[r].miner_time)\n",
    "            bounded_times = (peer_timestamps)\n",
    "            first_heard_list.append(peer_timestamps)\n",
    "       \n",
    "    bounded_times_list.append(bounded_times)\n",
    "        \n",
    "    txn_list = str(df.iloc[r].transaction_hashes)\n",
    "    if isinstance(txn_list, str):\n",
    "        txn_count_buffer.append(len(txn_list.split(';')))\n",
    "    else:\n",
    "        txn_count_buffer.append(1)\n",
    "        \n",
    "df['dupe_count'] = dupe_count_buffer\n",
    "df['apparent_latency_ms'] = apparent_latency_buffer\n",
    "df['peer_count'] = peer_count_buffer\n",
    "df['raw_prop_ms'] = raw_prop_buffer\n",
    "df['prop_envelope_ms'] = prop_buffer\n",
    "df['txn_count'] = txn_count_buffer\n",
    "df['bounded_p2p_times'] = bounded_times_list\n",
    "df['first_heard'] = first_heard_list"
   ]
  },
  {
   "cell_type": "markdown",
   "metadata": {},
   "source": [
    "Calculate block differences based on the **miner-reported timestamp**. Remember that these can and often are spoofed."
   ]
  },
  {
   "cell_type": "code",
   "execution_count": 6,
   "metadata": {},
   "outputs": [],
   "source": [
    "# Calculate block times\n",
    "miner_time_diff_buffer = []\n",
    "\n",
    "for r in range(len(df)):\n",
    "\n",
    "    this_height = df.iloc[r].block_height\n",
    "    prev_indices = df.index[df['block_height'] == this_height-1].tolist()\n",
    "\n",
    "    if len(prev_indices) == 0: \n",
    "        # If we didn't record previous block, then NaN and move on\n",
    "        miner_time_diff_buffer.append(np.nan)\n",
    "    else:\n",
    "        # Get the index of (any one version of) the previous block\n",
    "        if len(prev_indices) == 1:\n",
    "            use_index = prev_indices\n",
    "        else:\n",
    "            use_index = int(min(prev_indices)) # pick only one index\n",
    "            \n",
    "        last_miner_time = int(df.iloc[use_index].miner_time) # miner time from last block\n",
    "        this_miner_time = df.iloc[r].miner_time # miner time from this block\n",
    "        miner_time_diff = (this_miner_time - last_miner_time) # difference\n",
    "        miner_time_diff_buffer.append(miner_time_diff) # record\n",
    "\n",
    "df['miner_reported_time_diff'] = miner_time_diff_buffer"
   ]
  },
  {
   "cell_type": "markdown",
   "metadata": {},
   "source": [
    "Now calculate the **REAL** block time based on observatory timestamps (\"bounded_p2p_timestamps\" column!)"
   ]
  },
  {
   "cell_type": "code",
   "execution_count": 7,
   "metadata": {},
   "outputs": [],
   "source": [
    "# Calculate block times\n",
    "real_block_time_buffer = []\n",
    "bounded_times_list = []\n",
    "\n",
    "for r in range(len(df)):\n",
    "\n",
    "    this_height = df.iloc[r].block_height\n",
    "    prev_indices = df.index[df['block_height'] == this_height-1].tolist()\n",
    "\n",
    "    if len(prev_indices) == 0: \n",
    "        # If we didn't record previous block, then NaN and move on\n",
    "        real_block_time_buffer.append(np.nan)\n",
    "    else:\n",
    "        # Get the index of (any one version of) the previous block\n",
    "        if len(prev_indices) == 1:\n",
    "            use_index = prev_indices\n",
    "        else:\n",
    "            use_index = int(min(prev_indices)) # pick only one index\n",
    "            \n",
    "        last_heard_raw = df.iloc[use_index].first_heard \n",
    "        this_heard_raw = df.iloc[r].first_heard \n",
    "        try:\n",
    "            last_real_time = int(pd.to_numeric(last_heard_raw))\n",
    "        except:\n",
    "            last_real_time = np.nan\n",
    "        try:\n",
    "            this_real_time = int(pd.to_numeric(this_heard_raw))\n",
    "        except:\n",
    "            this_real_time = np.nan\n",
    "        real_time_diff = (this_real_time - last_real_time)/1000\n",
    "        real_block_time_buffer.append(real_time_diff)\n",
    "    \n",
    "df['real_block_time'] = real_block_time_buffer"
   ]
  },
  {
   "cell_type": "code",
   "execution_count": 8,
   "metadata": {},
   "outputs": [
    {
     "data": {
      "text/html": [
       "<div>\n",
       "<style scoped>\n",
       "    .dataframe tbody tr th:only-of-type {\n",
       "        vertical-align: middle;\n",
       "    }\n",
       "\n",
       "    .dataframe tbody tr th {\n",
       "        vertical-align: top;\n",
       "    }\n",
       "\n",
       "    .dataframe thead th {\n",
       "        text-align: right;\n",
       "    }\n",
       "</style>\n",
       "<table border=\"1\" class=\"dataframe\">\n",
       "  <thead>\n",
       "    <tr style=\"text-align: right;\">\n",
       "      <th></th>\n",
       "      <th>block_height</th>\n",
       "      <th>block_hash</th>\n",
       "      <th>prev_hash</th>\n",
       "      <th>miner_target</th>\n",
       "      <th>miner_time</th>\n",
       "      <th>valid_time</th>\n",
       "      <th>transaction_hashes</th>\n",
       "      <th>inv_timestamps</th>\n",
       "      <th>dupe_count</th>\n",
       "      <th>apparent_latency_ms</th>\n",
       "      <th>peer_count</th>\n",
       "      <th>raw_prop_ms</th>\n",
       "      <th>prop_envelope_ms</th>\n",
       "      <th>txn_count</th>\n",
       "      <th>bounded_p2p_times</th>\n",
       "      <th>first_heard</th>\n",
       "      <th>miner_reported_time_diff</th>\n",
       "      <th>real_block_time</th>\n",
       "    </tr>\n",
       "  </thead>\n",
       "  <tbody>\n",
       "    <tr>\n",
       "      <th>962</th>\n",
       "      <td>776372.0</td>\n",
       "      <td>0000000002dffd1620d240c2645ae19ef6f6e65d9549a8...</td>\n",
       "      <td>000000000001b0212b77e7a36b3db3a6339b1101c01047...</td>\n",
       "      <td>0000000003223500000000000000000000000000000000...</td>\n",
       "      <td>1.585354e+09</td>\n",
       "      <td>1.585354e+12</td>\n",
       "      <td>ab73373b9de381ea9343b1b565bc7728d5f6a2b7be9cb8...</td>\n",
       "      <td>1585353675885;1585353675718;1585353675847;1585...</td>\n",
       "      <td>1</td>\n",
       "      <td>19660.0</td>\n",
       "      <td>7.0</td>\n",
       "      <td>264.0</td>\n",
       "      <td>264.0</td>\n",
       "      <td>5</td>\n",
       "      <td>[1585353675885, 1585353675718, 1585353675847, ...</td>\n",
       "      <td>1.585354e+12</td>\n",
       "      <td>NaN</td>\n",
       "      <td>NaN</td>\n",
       "    </tr>\n",
       "    <tr>\n",
       "      <th>729</th>\n",
       "      <td>776373.0</td>\n",
       "      <td>0000000000af794152926dce4bf5535e96013917239d03...</td>\n",
       "      <td>0000000002dffd1620d240c2645ae19ef6f6e65d9549a8...</td>\n",
       "      <td>00000000031d9300000000000000000000000000000000...</td>\n",
       "      <td>1.585354e+09</td>\n",
       "      <td>1.585354e+12</td>\n",
       "      <td>c22114dbe83165623a1d720faaab2dc21d9733cdda120c...</td>\n",
       "      <td>1585353772817;1585353772934;1585353772817;1585...</td>\n",
       "      <td>1</td>\n",
       "      <td>16645.0</td>\n",
       "      <td>7.0</td>\n",
       "      <td>367.0</td>\n",
       "      <td>367.0</td>\n",
       "      <td>4</td>\n",
       "      <td>[1585353772817, 1585353772934, 1585353772817, ...</td>\n",
       "      <td>1.585354e+12</td>\n",
       "      <td>100.0</td>\n",
       "      <td>96.985</td>\n",
       "    </tr>\n",
       "    <tr>\n",
       "      <th>667</th>\n",
       "      <td>776374.0</td>\n",
       "      <td>00000000003add8a649ff60f94d3f08eb492d554d51ce4...</td>\n",
       "      <td>0000000000af794152926dce4bf5535e96013917239d03...</td>\n",
       "      <td>00000000031d5100000000000000000000000000000000...</td>\n",
       "      <td>1.585354e+09</td>\n",
       "      <td>1.585354e+12</td>\n",
       "      <td>126a7036a71f1d367f7eb8dc4f5bb685aa8da25a080dc3...</td>\n",
       "      <td>1585353936366;1585353936170;1585353936297;1585...</td>\n",
       "      <td>1</td>\n",
       "      <td>73137.0</td>\n",
       "      <td>10.0</td>\n",
       "      <td>284.0</td>\n",
       "      <td>284.0</td>\n",
       "      <td>4</td>\n",
       "      <td>[1585353936366, 1585353936170, 1585353936297, ...</td>\n",
       "      <td>1.585354e+12</td>\n",
       "      <td>107.0</td>\n",
       "      <td>163.492</td>\n",
       "    </tr>\n",
       "    <tr>\n",
       "      <th>15</th>\n",
       "      <td>776375.0</td>\n",
       "      <td>00000000019d916bb8ea02167b41eef51eef0d4875084b...</td>\n",
       "      <td>00000000003add8a649ff60f94d3f08eb492d554d51ce4...</td>\n",
       "      <td>0000000003121700000000000000000000000000000000...</td>\n",
       "      <td>1.585354e+09</td>\n",
       "      <td>1.585354e+12</td>\n",
       "      <td>40ffbb2d0d74c906f27be2ef9444255945899b6afb7778...</td>\n",
       "      <td>1585353980845;1585353980979;1585353981065;1585...</td>\n",
       "      <td>1</td>\n",
       "      <td>18845.0</td>\n",
       "      <td>8.0</td>\n",
       "      <td>220.0</td>\n",
       "      <td>220.0</td>\n",
       "      <td>8</td>\n",
       "      <td>[1585353980845, 1585353980979, 1585353981065, ...</td>\n",
       "      <td>1.585354e+12</td>\n",
       "      <td>99.0</td>\n",
       "      <td>44.708</td>\n",
       "    </tr>\n",
       "    <tr>\n",
       "      <th>363</th>\n",
       "      <td>776376.0</td>\n",
       "      <td>00000000000a0432d3a44c4699822e72d77a3a63435ce3...</td>\n",
       "      <td>00000000019d916bb8ea02167b41eef51eef0d4875084b...</td>\n",
       "      <td>0000000002e24d00000000000000000000000000000000...</td>\n",
       "      <td>1.585354e+09</td>\n",
       "      <td>1.585354e+12</td>\n",
       "      <td>0e0ddf98661995bab8ca2feb36ae7f72177d95df16a441...</td>\n",
       "      <td>1585354056452;1585354056217;1585354056367;1585...</td>\n",
       "      <td>1</td>\n",
       "      <td>15217.0</td>\n",
       "      <td>7.0</td>\n",
       "      <td>235.0</td>\n",
       "      <td>235.0</td>\n",
       "      <td>4</td>\n",
       "      <td>[1585354056452, 1585354056217, 1585354056367, ...</td>\n",
       "      <td>1.585354e+12</td>\n",
       "      <td>79.0</td>\n",
       "      <td>75.372</td>\n",
       "    </tr>\n",
       "  </tbody>\n",
       "</table>\n",
       "</div>"
      ],
      "text/plain": [
       "     block_height                                         block_hash  \\\n",
       "962      776372.0  0000000002dffd1620d240c2645ae19ef6f6e65d9549a8...   \n",
       "729      776373.0  0000000000af794152926dce4bf5535e96013917239d03...   \n",
       "667      776374.0  00000000003add8a649ff60f94d3f08eb492d554d51ce4...   \n",
       "15       776375.0  00000000019d916bb8ea02167b41eef51eef0d4875084b...   \n",
       "363      776376.0  00000000000a0432d3a44c4699822e72d77a3a63435ce3...   \n",
       "\n",
       "                                             prev_hash  \\\n",
       "962  000000000001b0212b77e7a36b3db3a6339b1101c01047...   \n",
       "729  0000000002dffd1620d240c2645ae19ef6f6e65d9549a8...   \n",
       "667  0000000000af794152926dce4bf5535e96013917239d03...   \n",
       "15   00000000003add8a649ff60f94d3f08eb492d554d51ce4...   \n",
       "363  00000000019d916bb8ea02167b41eef51eef0d4875084b...   \n",
       "\n",
       "                                          miner_target    miner_time  \\\n",
       "962  0000000003223500000000000000000000000000000000...  1.585354e+09   \n",
       "729  00000000031d9300000000000000000000000000000000...  1.585354e+09   \n",
       "667  00000000031d5100000000000000000000000000000000...  1.585354e+09   \n",
       "15   0000000003121700000000000000000000000000000000...  1.585354e+09   \n",
       "363  0000000002e24d00000000000000000000000000000000...  1.585354e+09   \n",
       "\n",
       "       valid_time                                 transaction_hashes  \\\n",
       "962  1.585354e+12  ab73373b9de381ea9343b1b565bc7728d5f6a2b7be9cb8...   \n",
       "729  1.585354e+12  c22114dbe83165623a1d720faaab2dc21d9733cdda120c...   \n",
       "667  1.585354e+12  126a7036a71f1d367f7eb8dc4f5bb685aa8da25a080dc3...   \n",
       "15   1.585354e+12  40ffbb2d0d74c906f27be2ef9444255945899b6afb7778...   \n",
       "363  1.585354e+12  0e0ddf98661995bab8ca2feb36ae7f72177d95df16a441...   \n",
       "\n",
       "                                        inv_timestamps  dupe_count  \\\n",
       "962  1585353675885;1585353675718;1585353675847;1585...           1   \n",
       "729  1585353772817;1585353772934;1585353772817;1585...           1   \n",
       "667  1585353936366;1585353936170;1585353936297;1585...           1   \n",
       "15   1585353980845;1585353980979;1585353981065;1585...           1   \n",
       "363  1585354056452;1585354056217;1585354056367;1585...           1   \n",
       "\n",
       "     apparent_latency_ms  peer_count  raw_prop_ms  prop_envelope_ms  \\\n",
       "962              19660.0         7.0        264.0             264.0   \n",
       "729              16645.0         7.0        367.0             367.0   \n",
       "667              73137.0        10.0        284.0             284.0   \n",
       "15               18845.0         8.0        220.0             220.0   \n",
       "363              15217.0         7.0        235.0             235.0   \n",
       "\n",
       "     txn_count                                  bounded_p2p_times  \\\n",
       "962          5  [1585353675885, 1585353675718, 1585353675847, ...   \n",
       "729          4  [1585353772817, 1585353772934, 1585353772817, ...   \n",
       "667          4  [1585353936366, 1585353936170, 1585353936297, ...   \n",
       "15           8  [1585353980845, 1585353980979, 1585353981065, ...   \n",
       "363          4  [1585354056452, 1585354056217, 1585354056367, ...   \n",
       "\n",
       "      first_heard  miner_reported_time_diff  real_block_time  \n",
       "962  1.585354e+12                       NaN              NaN  \n",
       "729  1.585354e+12                     100.0           96.985  \n",
       "667  1.585354e+12                     107.0          163.492  \n",
       "15   1.585354e+12                      99.0           44.708  \n",
       "363  1.585354e+12                      79.0           75.372  "
      ]
     },
     "execution_count": 8,
     "metadata": {},
     "output_type": "execute_result"
    }
   ],
   "source": [
    "df.sort_values(by='block_height').head()"
   ]
  },
  {
   "cell_type": "code",
   "execution_count": 9,
   "metadata": {},
   "outputs": [],
   "source": [
    "if q_save_output:\n",
    "    df.to_csv(output_filename, index=False)"
   ]
  },
  {
   "cell_type": "markdown",
   "metadata": {},
   "source": [
    "## Visualizations"
   ]
  },
  {
   "cell_type": "markdown",
   "metadata": {},
   "source": [
    "### When did we encounter forks?"
   ]
  },
  {
   "cell_type": "code",
   "execution_count": 10,
   "metadata": {},
   "outputs": [
    {
     "name": "stdout",
     "output_type": "stream",
     "text": [
      "Encountered 30 forks, during 10224 blocks of operation\n",
      "                             (213 hours)\n",
      "                             (9 days)\n",
      "This represents a 0.29% fork rate\n"
     ]
    },
    {
     "data": {
      "image/png": "[encoded data removed]",
      "text/plain": [
       "<Figure size 576x360 with 1 Axes>"
      ]
     },
     "metadata": {},
     "output_type": "display_data"
    }
   ],
   "source": [
    "uptime_blocks = np.count_nonzero(~np.isnan(df.peer_count))\n",
    "print('Encountered ' + str(len(fork_heights)) + ' forks, during ' + str(uptime_blocks) + ' blocks of operation')\n",
    "print('                             (' + str(round(uptime_blocks*block_time_s/60/60)) + ' hours)')\n",
    "print('                             (' + str(round(uptime_blocks*block_time_s/60/60/24)) + ' days)')\n",
    "print('This represents a ' + str(round(len(fork_heights)/uptime_blocks*100,2)) + '% fork rate')\n",
    "\n",
    "height_hist = plt.figure(figsize=(8,5), facecolor='w')\n",
    "plt.hist(list(fork_heights));\n",
    "plt.xlabel('Time (height)')\n",
    "plt.ylabel('Fork count')\n",
    "plt.title('Fork detection by Zcash observatory (insight-node-0)');"
   ]
  },
  {
   "cell_type": "markdown",
   "metadata": {},
   "source": [
    "## Comparing miner timestamps against actual receipt\n",
    "Please note that the miner-reported timestamp is a semi-arbitrary value selected by the miner when they initially generate the block headers. You should not assume that ANY of them are correct."
   ]
  },
  {
   "cell_type": "code",
   "execution_count": 11,
   "metadata": {},
   "outputs": [
    {
     "data": {
      "image/png": "[encoded data removed]",
      "text/plain": [
       "<Figure size 576x360 with 1 Axes>"
      ]
     },
     "metadata": {},
     "output_type": "display_data"
    }
   ],
   "source": [
    "height_hist = plt.figure(figsize=(8,5), facecolor='w')\n",
    "plt.hist(df.apparent_latency_ms/1000, bins=np.logspace(np.log10(1),np.log10(1e5), 50));\n",
    "plt.yscale('log')\n",
    "plt.xscale('log')\n",
    "plt.xlabel('*apparent* latency (sec)')\n",
    "plt.ylabel('Frequency')\n",
    "plt.title('Miner timestamp - observatory receipt timestamp');"
   ]
  },
  {
   "cell_type": "markdown",
   "metadata": {},
   "source": [
    "## Propagation time"
   ]
  },
  {
   "cell_type": "code",
   "execution_count": 12,
   "metadata": {},
   "outputs": [
    {
     "data": {
      "text/plain": [
       "Text(0.5, 1.0, 'Observed block propagation time (insight-node-0)')"
      ]
     },
     "execution_count": 12,
     "metadata": {},
     "output_type": "execute_result"
    },
    {
     "data": {
      "image/png": "[encoded data removed]",
      "text/plain": [
       "<Figure size 720x360 with 1 Axes>"
      ]
     },
     "metadata": {},
     "output_type": "display_data"
    }
   ],
   "source": [
    "height_hist = plt.figure(figsize=(10,5), facecolor='w')\n",
    "plt.hist(df['prop_envelope_ms'], bins=np.logspace(np.log10(min(df['prop_envelope_ms'][df['prop_envelope_ms']>0])),np.log10(max(df['prop_envelope_ms'])), 100) );\n",
    "plt.yscale('log')\n",
    "plt.xscale('log')\n",
    "plt.xlabel('last-first timestamp (ms)')\n",
    "plt.ylabel('Frequency')\n",
    "plt.title('Observed block propagation time (insight-node-0)')"
   ]
  },
  {
   "cell_type": "code",
   "execution_count": 13,
   "metadata": {},
   "outputs": [
    {
     "data": {
      "image/png": "[encoded data removed]",
      "text/plain": [
       "<Figure size 576x360 with 1 Axes>"
      ]
     },
     "metadata": {},
     "output_type": "display_data"
    }
   ],
   "source": [
    "# How does the observed propagation envelope depend on the number of transactions in a block\n",
    "peer_prop_scatter = plt.figure(figsize=(8,5), facecolor='w')\n",
    "plt.scatter(df['txn_count'], df['prop_envelope_ms'])\n",
    "plt.xlabel('Transactions in block')\n",
    "plt.ylabel('Observed propagation time (ms)')\n",
    "plt.yscale('linear')\n",
    "plt.xscale('linear')\n",
    "plt.title('Impact of block size on propagation');"
   ]
  },
  {
   "cell_type": "code",
   "execution_count": 14,
   "metadata": {},
   "outputs": [
    {
     "data": {
      "image/png": "[encoded data removed]",
      "text/plain": [
       "<Figure size 576x360 with 1 Axes>"
      ]
     },
     "metadata": {},
     "output_type": "display_data"
    }
   ],
   "source": [
    "# How does the observed propagation envelope depend on the number of peers that we hear the block from\n",
    "peer_prop_scatter = plt.figure(figsize=(8,5), facecolor='w')\n",
    "plt.scatter(df['peer_count'], df['prop_envelope_ms'])\n",
    "plt.xlabel('Peer count')\n",
    "plt.ylabel('Observed propagation time (ms)')\n",
    "plt.title('Peer count <-> observed prop time');"
   ]
  },
  {
   "cell_type": "markdown",
   "metadata": {},
   "source": [
    "Note that that we can see how fast remote nodes are syncing, based on when they ask for blocks"
   ]
  },
  {
   "cell_type": "code",
   "execution_count": 15,
   "metadata": {},
   "outputs": [
    {
     "data": {
      "image/png": "[encoded data removed]",
      "text/plain": [
       "<Figure size 1080x360 with 1 Axes>"
      ]
     },
     "metadata": {},
     "output_type": "display_data"
    }
   ],
   "source": [
    "peer_prop_scatter = plt.figure(figsize=(15,5), facecolor='w')\n",
    "plt.scatter(df['block_height'], df['raw_prop_ms'])\n",
    "plt.xlabel('Time (height)')\n",
    "plt.ylabel('Observed propagation time (ms)')\n",
    "plt.title('');"
   ]
  },
  {
   "cell_type": "markdown",
   "metadata": {},
   "source": [
    "## Block time"
   ]
  },
  {
   "cell_type": "code",
   "execution_count": 16,
   "metadata": {},
   "outputs": [
    {
     "data": {
      "image/png": "[encoded data removed]",
      "text/plain": [
       "<Figure size 720x360 with 1 Axes>"
      ]
     },
     "metadata": {},
     "output_type": "display_data"
    }
   ],
   "source": [
    "height_hist = plt.figure(figsize=(10,5), facecolor='w')\n",
    "plt.hist(df['real_block_time'], bins=np.linspace(0,500,100))\n",
    "plt.xlabel('Observed block time (s)')\n",
    "plt.ylabel('Frequency')\n",
    "plt.title('Observed block time [insight-node-0] \\n (observatory peer-receipt timestamps, NOT miner-reported timestamps)');"
   ]
  },
  {
   "cell_type": "code",
   "execution_count": 17,
   "metadata": {},
   "outputs": [
    {
     "data": {
      "image/png": "[encoded data removed]",
      "text/plain": [
       "<Figure size 720x360 with 1 Axes>"
      ]
     },
     "metadata": {},
     "output_type": "display_data"
    }
   ],
   "source": [
    "height_hist = plt.figure(figsize=(10,5), facecolor='w')\n",
    "plt.hist(df['real_block_time'], bins=np.linspace(0,2,40))\n",
    "plt.xlabel('Observed block time (s)')\n",
    "plt.ylabel('Frequency')\n",
    "plt.ylabel('Frequency')\n",
    "plt.title('Observed block time [insight-node-0] \\n (observatory peer-receipt timestamps, NOT miner-reported timestamps)');"
   ]
  },
  {
   "cell_type": "code",
   "execution_count": 20,
   "metadata": {},
   "outputs": [
    {
     "data": {
      "text/plain": [
       "0.02410575427682737"
      ]
     },
     "execution_count": 20,
     "metadata": {},
     "output_type": "execute_result"
    }
   ],
   "source": [
    "len(df[df['real_block_time']<1])/len(df)"
   ]
  },
  {
   "cell_type": "code",
   "execution_count": 18,
   "metadata": {},
   "outputs": [
    {
     "data": {
      "image/png": "[encoded data removed]",
      "text/plain": [
       "<Figure size 576x360 with 1 Axes>"
      ]
     },
     "metadata": {},
     "output_type": "display_data"
    }
   ],
   "source": [
    "# Comparing block time from miner timestamps to real timestamps\n",
    "peer_prop_scatter = plt.figure(figsize=(8,5), facecolor='w')\n",
    "plt.scatter(df['miner_reported_time_diff'], df['real_block_time'])\n",
    "plt.xlabel('Miner reported block time')\n",
    "plt.ylabel('Observed block time')\n",
    "plt.title('');\n",
    "plt.ylim((0,800));"
   ]
  },
  {
   "cell_type": "markdown",
   "metadata": {},
   "source": [
    "## Look into forks"
   ]
  },
  {
   "cell_type": "code",
   "execution_count": 45,
   "metadata": {},
   "outputs": [],
   "source": [
    "pd.set_option('display.float_format', lambda x: '%.0f' % x)\n",
    "pd.set_option('display.max_colwidth', -1)"
   ]
  },
  {
   "cell_type": "code",
   "execution_count": 46,
   "metadata": {},
   "outputs": [
    {
     "name": "stdout",
     "output_type": "stream",
     "text": [
      "*****\n",
      "height: 780676\n",
      "3653   780677\n",
      "Name: block_height, dtype: float64\n",
      "3653   nan\n",
      "Name: real_block_time, dtype: float64\n",
      "*****\n",
      "height: 778118\n",
      "1962   778119\n",
      "Name: block_height, dtype: float64\n",
      "1962   nan\n",
      "Name: real_block_time, dtype: float64\n",
      "*****\n",
      "height: 787213\n",
      "9603   787214\n",
      "Name: block_height, dtype: float64\n",
      "9603   -115\n",
      "Name: real_block_time, dtype: float64\n",
      "*****\n",
      "height: 776464\n",
      "926   776465\n",
      "Name: block_height, dtype: float64\n",
      "926   19\n",
      "Name: real_block_time, dtype: float64\n",
      "*****\n",
      "height: 786843\n",
      "9647   786844\n",
      "Name: block_height, dtype: float64\n",
      "9647   147\n",
      "Name: real_block_time, dtype: float64\n",
      "*****\n",
      "height: 777378\n",
      "846   777379\n",
      "Name: block_height, dtype: float64\n",
      "846   80\n",
      "Name: real_block_time, dtype: float64\n",
      "*****\n",
      "height: 776487\n",
      "1122   776488\n",
      "Name: block_height, dtype: float64\n",
      "1122   92\n",
      "Name: real_block_time, dtype: float64\n",
      "*****\n",
      "height: 778799\n",
      "3424   778800\n",
      "Name: block_height, dtype: float64\n",
      "3424   92\n",
      "Name: real_block_time, dtype: float64\n",
      "*****\n",
      "height: 786223\n",
      "9019   786224\n",
      "Name: block_height, dtype: float64\n",
      "9019   nan\n",
      "Name: real_block_time, dtype: float64\n",
      "*****\n",
      "height: 785841\n",
      "8331   785842\n",
      "Name: block_height, dtype: float64\n",
      "8331   307\n",
      "Name: real_block_time, dtype: float64\n",
      "*****\n",
      "height: 787251\n",
      "9838   787252\n",
      "Name: block_height, dtype: float64\n",
      "9838   85\n",
      "Name: real_block_time, dtype: float64\n",
      "*****\n",
      "height: 777142\n",
      "659   777143\n",
      "Name: block_height, dtype: float64\n",
      "659   25\n",
      "Name: real_block_time, dtype: float64\n",
      "*****\n",
      "height: 782522\n",
      "5806   782523\n",
      "Name: block_height, dtype: float64\n",
      "5806   75\n",
      "Name: real_block_time, dtype: float64\n",
      "*****\n",
      "height: 787259\n",
      "9857   787260\n",
      "Name: block_height, dtype: float64\n",
      "9857   31\n",
      "Name: real_block_time, dtype: float64\n",
      "*****\n",
      "height: 787398\n",
      "9701   787399\n",
      "Name: block_height, dtype: float64\n",
      "9701   127\n",
      "Name: real_block_time, dtype: float64\n",
      "*****\n",
      "height: 779851\n",
      "3500   779852\n",
      "Name: block_height, dtype: float64\n",
      "3500   -84267\n",
      "Name: real_block_time, dtype: float64\n",
      "*****\n",
      "height: 779984\n",
      "4388   779985\n",
      "Name: block_height, dtype: float64\n",
      "4388   74564\n",
      "Name: real_block_time, dtype: float64\n",
      "*****\n",
      "height: 782802\n",
      "6343   782803\n",
      "Name: block_height, dtype: float64\n",
      "6343   442\n",
      "Name: real_block_time, dtype: float64\n",
      "*****\n",
      "height: 783186\n",
      "6748   783187\n",
      "Name: block_height, dtype: float64\n",
      "6748   262\n",
      "Name: real_block_time, dtype: float64\n",
      "*****\n",
      "height: 779606\n",
      "3241   779607\n",
      "Name: block_height, dtype: float64\n",
      "3241   86\n",
      "Name: real_block_time, dtype: float64\n",
      "*****\n",
      "height: 786390\n",
      "8749   786391\n",
      "Name: block_height, dtype: float64\n",
      "8749   80\n",
      "Name: real_block_time, dtype: float64\n",
      "*****\n",
      "height: 785375\n",
      "7335   785376\n",
      "Name: block_height, dtype: float64\n",
      "7335   1\n",
      "Name: real_block_time, dtype: float64\n",
      "*****\n",
      "height: 778981\n",
      "2404   778982\n",
      "Name: block_height, dtype: float64\n",
      "2404   62\n",
      "Name: real_block_time, dtype: float64\n",
      "*****\n",
      "height: 781672\n",
      "5328   781673\n",
      "Name: block_height, dtype: float64\n",
      "5328   33\n",
      "Name: real_block_time, dtype: float64\n",
      "*****\n",
      "height: 777967\n",
      "1720   777968\n",
      "Name: block_height, dtype: float64\n",
      "1720   51\n",
      "Name: real_block_time, dtype: float64\n",
      "*****\n",
      "height: 777586\n",
      "2035   777587\n",
      "Name: block_height, dtype: float64\n",
      "2035   57\n",
      "Name: real_block_time, dtype: float64\n",
      "*****\n",
      "height: 778101\n",
      "2081   778102\n",
      "Name: block_height, dtype: float64\n",
      "2081   20\n",
      "Name: real_block_time, dtype: float64\n",
      "*****\n",
      "height: 781943\n",
      "5633   781944\n",
      "Name: block_height, dtype: float64\n",
      "5633   113\n",
      "Name: real_block_time, dtype: float64\n",
      "*****\n",
      "height: 785400\n",
      "7689   785401\n",
      "Name: block_height, dtype: float64\n",
      "7689   29\n",
      "Name: real_block_time, dtype: float64\n",
      "*****\n",
      "height: 778362\n",
      "1827   778363\n",
      "Name: block_height, dtype: float64\n",
      "1827   137\n",
      "Name: real_block_time, dtype: float64\n"
     ]
    }
   ],
   "source": [
    "fork_heights_list = list(fork_heights)\n",
    "for f in range(len(fork_heights_list)):\n",
    "    print('*****')\n",
    "    h = fork_heights_list[f]\n",
    "    print('height: '+ str(h))\n",
    "    next_block_ind = df[df['block_height'] == h+1].real_block_time\n",
    "    print(df[df['block_height'] == h+1].block_height)\n",
    "    print(df[df['block_height'] == h+1].real_block_time)\n"
   ]
  }
 ],
 "metadata": {
  "kernelspec": {
   "display_name": "Python 3",
   "language": "python",
   "name": "python3"
  },
  "language_info": {
   "codemirror_mode": {
    "name": "ipython",
    "version": 3
   },
   "file_extension": ".py",
   "mimetype": "text/x-python",
   "name": "python",
   "nbconvert_exporter": "python",
   "pygments_lexer": "ipython3",
   "version": "3.7.3"
  }
 },
 "nbformat": 4,
 "nbformat_minor": 2
}
