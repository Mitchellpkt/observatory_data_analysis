{
 "cells": [
  {
   "cell_type": "markdown",
   "metadata": {},
   "source": [
    "\n",
    "# Zcash Observatory data\n",
    "\n",
    "Mitchell Krawiec-Thayer and Pranav Thirunavukkarasu\n",
    "\n",
    "June 2020\n",
    "\n",
    "Observatory R & D at Insight supported by the Zcash Foundation\n"
   ]
  },
  {
   "cell_type": "markdown",
   "metadata": {},
   "source": [
    "## Settings for this notebook"
   ]
  },
  {
   "cell_type": "code",
   "execution_count": 1,
   "metadata": {},
   "outputs": [],
   "source": [
    "path_to_files = '.'\n",
    "savedata = 1\n",
    "remove_sync_hack = 0"
   ]
  },
  {
   "cell_type": "markdown",
   "metadata": {},
   "source": [
    "## Import libraries"
   ]
  },
  {
   "cell_type": "code",
   "execution_count": 2,
   "metadata": {},
   "outputs": [],
   "source": [
    "import numpy as np;\n",
    "import matplotlib.pyplot as plt;\n",
    "import pandas as pd;\n",
    "import math;\n",
    "import os;"
   ]
  },
  {
   "cell_type": "markdown",
   "metadata": {},
   "source": [
    "## Define functions"
   ]
  },
  {
   "cell_type": "code",
   "execution_count": 3,
   "metadata": {},
   "outputs": [],
   "source": [
    "# This creates heatmap visualizations\n",
    "\n",
    "def Heatmap(x, y, LinBins = (60,60), LogBins = (60,60), title = '', xlabel = '', ylabel = '', yscale = 'linear', xscale = 'linear', onlyplot = '', vmax = 'auto', vmin = 0, clabel='', ymax = 'auto'):\n",
    "    # import numpy as np\n",
    "    # import matplotlib.pyplot as plt\n",
    "    # MPKT 2019.06\n",
    "\n",
    "    # Note that this is a hacky function that cannot handle NaNs at the moment\n",
    "    \n",
    "    if ymax == 'auto':\n",
    "        ymax_val = np.log10(int(np.max(x)))\n",
    "    else:\n",
    "        ymax_val = np.log10(int(ymax))\n",
    "    \n",
    "    # Log plot\n",
    "    if not onlyplot == 'linear':\n",
    "        fig = plt.figure(figsize=(15,5), facecolor='white')\n",
    "        if len(LogBins) == 2:\n",
    "            yedges = np.logspace(np.log10(1),ymax_val, LogBins[1])\n",
    "        H, xedges, yedges = np.histogram2d(list(x),list(y), bins=(LogBins[1],yedges))\n",
    "        \n",
    "        # H needs to be rotated and flipped\n",
    "        H = np.rot90(H)\n",
    "        H = np.flipud(H)\n",
    "        \n",
    "        if vmax == 'auto':\n",
    "            vmax = np.max(H)\n",
    "        # Plot 2D histogram using pcolor\n",
    "        plt.pcolormesh(xedges,yedges,H,vmax=vmax, vmin=vmin)\n",
    "        cbar = plt.colorbar()\n",
    "        cbar.ax.set_ylabel(clabel)                                          \n",
    "        plt.xlabel(xlabel)\n",
    "        plt.ylabel(ylabel)\n",
    "        plt.title(title)\n",
    "        plt.xscale(xscale)\n",
    "        plt.yscale(yscale)\n",
    "        plt.show()\n",
    "        \n",
    "        return fig;"
   ]
  },
  {
   "cell_type": "markdown",
   "metadata": {},
   "source": [
    "## Import data\n",
    "Assumes that data is in directories named by node ID (location)"
   ]
  },
  {
   "cell_type": "code",
   "execution_count": 4,
   "metadata": {},
   "outputs": [],
   "source": [
    "# What are the nearby directories\n",
    "folders = [x[0] for x in os.walk(path_to_files)]"
   ]
  },
  {
   "cell_type": "code",
   "execution_count": 39,
   "metadata": {},
   "outputs": [
    {
     "name": "stdout",
     "output_type": "stream",
     "text": [
      "Number of blocks: 7113\n"
     ]
    },
    {
     "data": {
      "text/html": [
       "<div>\n",
       "<style scoped>\n",
       "    .dataframe tbody tr th:only-of-type {\n",
       "        vertical-align: middle;\n",
       "    }\n",
       "\n",
       "    .dataframe tbody tr th {\n",
       "        vertical-align: top;\n",
       "    }\n",
       "\n",
       "    .dataframe thead th {\n",
       "        text-align: right;\n",
       "    }\n",
       "</style>\n",
       "<table border=\"1\" class=\"dataframe\">\n",
       "  <thead>\n",
       "    <tr style=\"text-align: right;\">\n",
       "      <th></th>\n",
       "      <th>mumbai_min</th>\n",
       "      <th>mumbai_max</th>\n",
       "      <th>mumbai_prop_time</th>\n",
       "      <th>virginia_min</th>\n",
       "      <th>virginia_max</th>\n",
       "      <th>virginia_prop_time</th>\n",
       "      <th>london_min</th>\n",
       "      <th>london_max</th>\n",
       "      <th>london_prop_time</th>\n",
       "      <th>africa_min</th>\n",
       "      <th>africa_max</th>\n",
       "      <th>africa_prop_time</th>\n",
       "      <th>Height</th>\n",
       "    </tr>\n",
       "  </thead>\n",
       "  <tbody>\n",
       "    <tr>\n",
       "      <th>0000000000005cfdaf50e186453b35cd8750605530ef78a2742fe01e05a099d0</th>\n",
       "      <td>1.590804e+09</td>\n",
       "      <td>1.590874e+09</td>\n",
       "      <td>70291.503</td>\n",
       "      <td>1.590804e+09</td>\n",
       "      <td>1.590874e+09</td>\n",
       "      <td>70291.461</td>\n",
       "      <td>1.590804e+09</td>\n",
       "      <td>1.590878e+09</td>\n",
       "      <td>74607.497</td>\n",
       "      <td>1.590804e+09</td>\n",
       "      <td>1.590874e+09</td>\n",
       "      <td>70291.196</td>\n",
       "      <td>848684.0</td>\n",
       "    </tr>\n",
       "    <tr>\n",
       "      <th>0000000000008b69454b120e213cc12c70506c97a67882fbbf59e8b439e57fbf</th>\n",
       "      <td>1.591126e+09</td>\n",
       "      <td>1.591126e+09</td>\n",
       "      <td>6.417</td>\n",
       "      <td>1.591126e+09</td>\n",
       "      <td>1.591150e+09</td>\n",
       "      <td>24005.140</td>\n",
       "      <td>1.591126e+09</td>\n",
       "      <td>1.591209e+09</td>\n",
       "      <td>82909.165</td>\n",
       "      <td>1.591126e+09</td>\n",
       "      <td>1.591126e+09</td>\n",
       "      <td>76.542</td>\n",
       "      <td>852983.0</td>\n",
       "    </tr>\n",
       "    <tr>\n",
       "      <th>000000000000987f4b5e8ee01c5523d4d532458bdac6f4c520457fbe967eaa37</th>\n",
       "      <td>1.591122e+09</td>\n",
       "      <td>1.591122e+09</td>\n",
       "      <td>4.652</td>\n",
       "      <td>1.591122e+09</td>\n",
       "      <td>1.591150e+09</td>\n",
       "      <td>28261.717</td>\n",
       "      <td>1.591122e+09</td>\n",
       "      <td>1.591150e+09</td>\n",
       "      <td>28261.618</td>\n",
       "      <td>1.591122e+09</td>\n",
       "      <td>1.591122e+09</td>\n",
       "      <td>4.590</td>\n",
       "      <td>852915.0</td>\n",
       "    </tr>\n",
       "    <tr>\n",
       "      <th>0000000000009981e955098743bba9eda5a729dc1f3f5f49622881046e065ee5</th>\n",
       "      <td>1.590944e+09</td>\n",
       "      <td>1.590944e+09</td>\n",
       "      <td>26.869</td>\n",
       "      <td>1.590944e+09</td>\n",
       "      <td>1.590944e+09</td>\n",
       "      <td>27.001</td>\n",
       "      <td>1.590944e+09</td>\n",
       "      <td>1.590944e+09</td>\n",
       "      <td>26.991</td>\n",
       "      <td>1.590944e+09</td>\n",
       "      <td>1.590944e+09</td>\n",
       "      <td>26.975</td>\n",
       "      <td>850563.0</td>\n",
       "    </tr>\n",
       "    <tr>\n",
       "      <th>0000000000009cae3f28a1512231d476fa15062f2963a04f526f7030bf4125e8</th>\n",
       "      <td>1.590975e+09</td>\n",
       "      <td>1.591044e+09</td>\n",
       "      <td>69228.374</td>\n",
       "      <td>1.590975e+09</td>\n",
       "      <td>1.590975e+09</td>\n",
       "      <td>98.767</td>\n",
       "      <td>1.590975e+09</td>\n",
       "      <td>1.590975e+09</td>\n",
       "      <td>15.838</td>\n",
       "      <td>1.590975e+09</td>\n",
       "      <td>1.591044e+09</td>\n",
       "      <td>69228.150</td>\n",
       "      <td>850963.0</td>\n",
       "    </tr>\n",
       "  </tbody>\n",
       "</table>\n",
       "</div>"
      ],
      "text/plain": [
       "                                                      mumbai_min  \\\n",
       "0000000000005cfdaf50e186453b35cd8750605530ef78a...  1.590804e+09   \n",
       "0000000000008b69454b120e213cc12c70506c97a67882f...  1.591126e+09   \n",
       "000000000000987f4b5e8ee01c5523d4d532458bdac6f4c...  1.591122e+09   \n",
       "0000000000009981e955098743bba9eda5a729dc1f3f5f4...  1.590944e+09   \n",
       "0000000000009cae3f28a1512231d476fa15062f2963a04...  1.590975e+09   \n",
       "\n",
       "                                                      mumbai_max  \\\n",
       "0000000000005cfdaf50e186453b35cd8750605530ef78a...  1.590874e+09   \n",
       "0000000000008b69454b120e213cc12c70506c97a67882f...  1.591126e+09   \n",
       "000000000000987f4b5e8ee01c5523d4d532458bdac6f4c...  1.591122e+09   \n",
       "0000000000009981e955098743bba9eda5a729dc1f3f5f4...  1.590944e+09   \n",
       "0000000000009cae3f28a1512231d476fa15062f2963a04...  1.591044e+09   \n",
       "\n",
       "                                                    mumbai_prop_time  \\\n",
       "0000000000005cfdaf50e186453b35cd8750605530ef78a...         70291.503   \n",
       "0000000000008b69454b120e213cc12c70506c97a67882f...             6.417   \n",
       "000000000000987f4b5e8ee01c5523d4d532458bdac6f4c...             4.652   \n",
       "0000000000009981e955098743bba9eda5a729dc1f3f5f4...            26.869   \n",
       "0000000000009cae3f28a1512231d476fa15062f2963a04...         69228.374   \n",
       "\n",
       "                                                    virginia_min  \\\n",
       "0000000000005cfdaf50e186453b35cd8750605530ef78a...  1.590804e+09   \n",
       "0000000000008b69454b120e213cc12c70506c97a67882f...  1.591126e+09   \n",
       "000000000000987f4b5e8ee01c5523d4d532458bdac6f4c...  1.591122e+09   \n",
       "0000000000009981e955098743bba9eda5a729dc1f3f5f4...  1.590944e+09   \n",
       "0000000000009cae3f28a1512231d476fa15062f2963a04...  1.590975e+09   \n",
       "\n",
       "                                                    virginia_max  \\\n",
       "0000000000005cfdaf50e186453b35cd8750605530ef78a...  1.590874e+09   \n",
       "0000000000008b69454b120e213cc12c70506c97a67882f...  1.591150e+09   \n",
       "000000000000987f4b5e8ee01c5523d4d532458bdac6f4c...  1.591150e+09   \n",
       "0000000000009981e955098743bba9eda5a729dc1f3f5f4...  1.590944e+09   \n",
       "0000000000009cae3f28a1512231d476fa15062f2963a04...  1.590975e+09   \n",
       "\n",
       "                                                    virginia_prop_time  \\\n",
       "0000000000005cfdaf50e186453b35cd8750605530ef78a...           70291.461   \n",
       "0000000000008b69454b120e213cc12c70506c97a67882f...           24005.140   \n",
       "000000000000987f4b5e8ee01c5523d4d532458bdac6f4c...           28261.717   \n",
       "0000000000009981e955098743bba9eda5a729dc1f3f5f4...              27.001   \n",
       "0000000000009cae3f28a1512231d476fa15062f2963a04...              98.767   \n",
       "\n",
       "                                                      london_min  \\\n",
       "0000000000005cfdaf50e186453b35cd8750605530ef78a...  1.590804e+09   \n",
       "0000000000008b69454b120e213cc12c70506c97a67882f...  1.591126e+09   \n",
       "000000000000987f4b5e8ee01c5523d4d532458bdac6f4c...  1.591122e+09   \n",
       "0000000000009981e955098743bba9eda5a729dc1f3f5f4...  1.590944e+09   \n",
       "0000000000009cae3f28a1512231d476fa15062f2963a04...  1.590975e+09   \n",
       "\n",
       "                                                      london_max  \\\n",
       "0000000000005cfdaf50e186453b35cd8750605530ef78a...  1.590878e+09   \n",
       "0000000000008b69454b120e213cc12c70506c97a67882f...  1.591209e+09   \n",
       "000000000000987f4b5e8ee01c5523d4d532458bdac6f4c...  1.591150e+09   \n",
       "0000000000009981e955098743bba9eda5a729dc1f3f5f4...  1.590944e+09   \n",
       "0000000000009cae3f28a1512231d476fa15062f2963a04...  1.590975e+09   \n",
       "\n",
       "                                                    london_prop_time  \\\n",
       "0000000000005cfdaf50e186453b35cd8750605530ef78a...         74607.497   \n",
       "0000000000008b69454b120e213cc12c70506c97a67882f...         82909.165   \n",
       "000000000000987f4b5e8ee01c5523d4d532458bdac6f4c...         28261.618   \n",
       "0000000000009981e955098743bba9eda5a729dc1f3f5f4...            26.991   \n",
       "0000000000009cae3f28a1512231d476fa15062f2963a04...            15.838   \n",
       "\n",
       "                                                      africa_min  \\\n",
       "0000000000005cfdaf50e186453b35cd8750605530ef78a...  1.590804e+09   \n",
       "0000000000008b69454b120e213cc12c70506c97a67882f...  1.591126e+09   \n",
       "000000000000987f4b5e8ee01c5523d4d532458bdac6f4c...  1.591122e+09   \n",
       "0000000000009981e955098743bba9eda5a729dc1f3f5f4...  1.590944e+09   \n",
       "0000000000009cae3f28a1512231d476fa15062f2963a04...  1.590975e+09   \n",
       "\n",
       "                                                      africa_max  \\\n",
       "0000000000005cfdaf50e186453b35cd8750605530ef78a...  1.590874e+09   \n",
       "0000000000008b69454b120e213cc12c70506c97a67882f...  1.591126e+09   \n",
       "000000000000987f4b5e8ee01c5523d4d532458bdac6f4c...  1.591122e+09   \n",
       "0000000000009981e955098743bba9eda5a729dc1f3f5f4...  1.590944e+09   \n",
       "0000000000009cae3f28a1512231d476fa15062f2963a04...  1.591044e+09   \n",
       "\n",
       "                                                    africa_prop_time    Height  \n",
       "0000000000005cfdaf50e186453b35cd8750605530ef78a...         70291.196  848684.0  \n",
       "0000000000008b69454b120e213cc12c70506c97a67882f...            76.542  852983.0  \n",
       "000000000000987f4b5e8ee01c5523d4d532458bdac6f4c...             4.590  852915.0  \n",
       "0000000000009981e955098743bba9eda5a729dc1f3f5f4...            26.975  850563.0  \n",
       "0000000000009cae3f28a1512231d476fa15062f2963a04...         69228.150  850963.0  "
      ]
     },
     "execution_count": 39,
     "metadata": {},
     "output_type": "execute_result"
    }
   ],
   "source": [
    "# Initialize\n",
    "node_names = list()\n",
    "height_buffer_df = pd.DataFrame()\n",
    "first_time = 1\n",
    "\n",
    "# Iterate over nodes\n",
    "for f in range(len(folders)):\n",
    "    this_folder_raw = folders[f]\n",
    "    if not (this_folder_raw[0:3] == './.' or this_folder_raw == '.'):\n",
    "        node_name = this_folder_raw[2::]\n",
    "        node_names.append(node_name)\n",
    "        \n",
    "        # Import timestamp data\n",
    "        file_name = os.path.join(this_folder_raw,'inv_v1.csv')\n",
    "        this_df = pd.read_csv(file_name, index_col = 'Hash')\n",
    "                \n",
    "        # Import height data\n",
    "        blocks_file_name = os.path.join(this_folder_raw,'blocks_v1.csv')\n",
    "        temp_block_df = pd.read_csv(blocks_file_name, index_col = 'Hash')\n",
    "        temp_block_df = temp_block_df.filter([\"Hash\", \"Height\"], axis=1)\n",
    "        height_buffer_df = height_buffer_df.append(temp_block_df)\n",
    "        \n",
    "        # Join heights\n",
    "        x = this_df.join(temp_block_df, on='Hash') # temp hook\n",
    "        \n",
    "        # Calculate some times and differences\n",
    "        min_time = this_df.groupby('Hash').min()\n",
    "        min_time = min_time.rename(columns={\"Validated_Time\": node_name+\"_min\", \"Peer_IP\": \"min_IP\", \"Hash\":'block_hash'})\n",
    "        max_time = this_df.groupby('Hash').max()\n",
    "        max_time = max_time.rename(columns={\"Validated_Time\": node_name+\"_max\", \"Peer_IP\": \"max_IP\", \"Hash\":'block_hash'})\n",
    "        single_node_combined = pd.concat([min_time, max_time], axis=1)\n",
    "        single_node_combined[node_name+'_prop_time'] = single_node_combined[node_name+'_max']-single_node_combined[node_name+'_min']\n",
    "        single_node_combined = single_node_combined.filter(['block_hash', node_name+\"_min\", node_name+\"_max\",node_name+\"_prop_time\"], axis=1)\n",
    "        \n",
    "        # Track results\n",
    "        if first_time:\n",
    "            global_df = single_node_combined\n",
    "            first_time = 0\n",
    "        else:\n",
    "            global_df = pd.concat([global_df,single_node_combined], axis=1, sort=False)\n",
    "            \n",
    "# Join with heights\n",
    "global_df = pd.concat([global_df, height_buffer_df.drop_duplicates()], axis=1, sort=False)\n",
    "\n",
    "# Print sample set size and take a peek at the data\n",
    "print(\"Number of blocks: \" + str(len(global_df)))\n",
    "global_df.head()"
   ]
  },
  {
   "cell_type": "code",
   "execution_count": 47,
   "metadata": {},
   "outputs": [
    {
     "data": {
      "text/html": [
       "<div>\n",
       "<style scoped>\n",
       "    .dataframe tbody tr th:only-of-type {\n",
       "        vertical-align: middle;\n",
       "    }\n",
       "\n",
       "    .dataframe tbody tr th {\n",
       "        vertical-align: top;\n",
       "    }\n",
       "\n",
       "    .dataframe thead th {\n",
       "        text-align: right;\n",
       "    }\n",
       "</style>\n",
       "<table border=\"1\" class=\"dataframe\">\n",
       "  <thead>\n",
       "    <tr style=\"text-align: right;\">\n",
       "      <th></th>\n",
       "      <th>Peer_IP</th>\n",
       "      <th>Validated_Time</th>\n",
       "      <th>Height</th>\n",
       "    </tr>\n",
       "    <tr>\n",
       "      <th>Hash</th>\n",
       "      <th></th>\n",
       "      <th></th>\n",
       "      <th></th>\n",
       "    </tr>\n",
       "  </thead>\n",
       "  <tbody>\n",
       "    <tr>\n",
       "      <th>00000000021862efce7b23fe87267fed94dd6722e6a9e21546d4d8d4d37e7dee</th>\n",
       "      <td>5.79.123.194</td>\n",
       "      <td>1.590697e+09</td>\n",
       "      <td>847281</td>\n",
       "    </tr>\n",
       "    <tr>\n",
       "      <th>00000000021862efce7b23fe87267fed94dd6722e6a9e21546d4d8d4d37e7dee</th>\n",
       "      <td>5.9.7.62</td>\n",
       "      <td>1.590697e+09</td>\n",
       "      <td>847281</td>\n",
       "    </tr>\n",
       "    <tr>\n",
       "      <th>00000000021862efce7b23fe87267fed94dd6722e6a9e21546d4d8d4d37e7dee</th>\n",
       "      <td>3.19.66.87</td>\n",
       "      <td>1.590697e+09</td>\n",
       "      <td>847281</td>\n",
       "    </tr>\n",
       "    <tr>\n",
       "      <th>00000000021862efce7b23fe87267fed94dd6722e6a9e21546d4d8d4d37e7dee</th>\n",
       "      <td>120.78.209.151</td>\n",
       "      <td>1.590697e+09</td>\n",
       "      <td>847281</td>\n",
       "    </tr>\n",
       "    <tr>\n",
       "      <th>000000000152d63d53347bbbc6f21331f93340bb08c925ffbff9e6358b944c72</th>\n",
       "      <td>47.94.251.211</td>\n",
       "      <td>1.590697e+09</td>\n",
       "      <td>847282</td>\n",
       "    </tr>\n",
       "  </tbody>\n",
       "</table>\n",
       "</div>"
      ],
      "text/plain": [
       "                                                           Peer_IP  \\\n",
       "Hash                                                                 \n",
       "00000000021862efce7b23fe87267fed94dd6722e6a9e21...    5.79.123.194   \n",
       "00000000021862efce7b23fe87267fed94dd6722e6a9e21...        5.9.7.62   \n",
       "00000000021862efce7b23fe87267fed94dd6722e6a9e21...      3.19.66.87   \n",
       "00000000021862efce7b23fe87267fed94dd6722e6a9e21...  120.78.209.151   \n",
       "000000000152d63d53347bbbc6f21331f93340bb08c925f...   47.94.251.211   \n",
       "\n",
       "                                                    Validated_Time  Height  \n",
       "Hash                                                                        \n",
       "00000000021862efce7b23fe87267fed94dd6722e6a9e21...    1.590697e+09  847281  \n",
       "00000000021862efce7b23fe87267fed94dd6722e6a9e21...    1.590697e+09  847281  \n",
       "00000000021862efce7b23fe87267fed94dd6722e6a9e21...    1.590697e+09  847281  \n",
       "00000000021862efce7b23fe87267fed94dd6722e6a9e21...    1.590697e+09  847281  \n",
       "000000000152d63d53347bbbc6f21331f93340bb08c925f...    1.590697e+09  847282  "
      ]
     },
     "execution_count": 47,
     "metadata": {},
     "output_type": "execute_result"
    }
   ],
   "source": [
    "x.head()"
   ]
  },
  {
   "cell_type": "code",
   "execution_count": 59,
   "metadata": {},
   "outputs": [
    {
     "data": {
      "text/html": [
       "<div>\n",
       "<style scoped>\n",
       "    .dataframe tbody tr th:only-of-type {\n",
       "        vertical-align: middle;\n",
       "    }\n",
       "\n",
       "    .dataframe tbody tr th {\n",
       "        vertical-align: top;\n",
       "    }\n",
       "\n",
       "    .dataframe thead th {\n",
       "        text-align: right;\n",
       "    }\n",
       "</style>\n",
       "<table border=\"1\" class=\"dataframe\">\n",
       "  <thead>\n",
       "    <tr style=\"text-align: right;\">\n",
       "      <th></th>\n",
       "      <th>Peer_IP</th>\n",
       "      <th>Validated_Time</th>\n",
       "      <th>Height</th>\n",
       "    </tr>\n",
       "    <tr>\n",
       "      <th>Hash</th>\n",
       "      <th></th>\n",
       "      <th></th>\n",
       "      <th></th>\n",
       "    </tr>\n",
       "  </thead>\n",
       "  <tbody>\n",
       "    <tr>\n",
       "      <th>00000000021862efce7b23fe87267fed94dd6722e6a9e21546d4d8d4d37e7dee</th>\n",
       "      <td>3.19.66.87</td>\n",
       "      <td>1.590697e+09</td>\n",
       "      <td>847281</td>\n",
       "    </tr>\n",
       "    <tr>\n",
       "      <th>000000000152d63d53347bbbc6f21331f93340bb08c925ffbff9e6358b944c72</th>\n",
       "      <td>3.19.66.87</td>\n",
       "      <td>1.590697e+09</td>\n",
       "      <td>847282</td>\n",
       "    </tr>\n",
       "    <tr>\n",
       "      <th>00000000007fe17fadca8304a16bb668f38da57f4a7857a145643a456f5501ad</th>\n",
       "      <td>3.19.66.87</td>\n",
       "      <td>1.590697e+09</td>\n",
       "      <td>847283</td>\n",
       "    </tr>\n",
       "    <tr>\n",
       "      <th>00000000018c8d046cd0442f0fc6893dab51bb0c436fa8693705362bd368495e</th>\n",
       "      <td>3.19.66.87</td>\n",
       "      <td>1.590697e+09</td>\n",
       "      <td>847284</td>\n",
       "    </tr>\n",
       "    <tr>\n",
       "      <th>00000000013adbb3eea273e7e977a70b2bef2866e58e811ff3fd7694cdb1963b</th>\n",
       "      <td>3.19.66.87</td>\n",
       "      <td>1.590697e+09</td>\n",
       "      <td>847285</td>\n",
       "    </tr>\n",
       "  </tbody>\n",
       "</table>\n",
       "</div>"
      ],
      "text/plain": [
       "                                                       Peer_IP  \\\n",
       "Hash                                                             \n",
       "00000000021862efce7b23fe87267fed94dd6722e6a9e21...  3.19.66.87   \n",
       "000000000152d63d53347bbbc6f21331f93340bb08c925f...  3.19.66.87   \n",
       "00000000007fe17fadca8304a16bb668f38da57f4a7857a...  3.19.66.87   \n",
       "00000000018c8d046cd0442f0fc6893dab51bb0c436fa86...  3.19.66.87   \n",
       "00000000013adbb3eea273e7e977a70b2bef2866e58e811...  3.19.66.87   \n",
       "\n",
       "                                                    Validated_Time  Height  \n",
       "Hash                                                                        \n",
       "00000000021862efce7b23fe87267fed94dd6722e6a9e21...    1.590697e+09  847281  \n",
       "000000000152d63d53347bbbc6f21331f93340bb08c925f...    1.590697e+09  847282  \n",
       "00000000007fe17fadca8304a16bb668f38da57f4a7857a...    1.590697e+09  847283  \n",
       "00000000018c8d046cd0442f0fc6893dab51bb0c436fa86...    1.590697e+09  847284  \n",
       "00000000013adbb3eea273e7e977a70b2bef2866e58e811...    1.590697e+09  847285  "
      ]
     },
     "execution_count": 59,
     "metadata": {},
     "output_type": "execute_result"
    }
   ],
   "source": [
    "peers = list(set(x['Peer_IP']))\n",
    "\n",
    "for p in range(3): # range(len(peers)):\n",
    "    df1 = x[x['Peer_IP'] == peers[p]]\n",
    "    \n",
    "df1.head()"
   ]
  },
  {
   "cell_type": "markdown",
   "metadata": {},
   "source": [
    "## Feature engineering"
   ]
  },
  {
   "cell_type": "code",
   "execution_count": 8,
   "metadata": {},
   "outputs": [],
   "source": [
    "# initialize empty buffers\n",
    "prop_list = list()\n",
    "min_list = list()\n",
    "max_list = list()\n",
    "\n",
    "# Loop over heights\n",
    "for h in range(len(global_df)):\n",
    "    min_stamps = list()\n",
    "    max_stamps = list()\n",
    "    keep_data = 1\n",
    "    \n",
    "    # Loop over nodes\n",
    "    for loc_ind in range(len(node_names)):\n",
    "        min_val_col = global_df[node_names[loc_ind]+\"_min\"]\n",
    "        min_val = min_val_col[h]\n",
    "        min_stamps.append(min_val)\n",
    "        max_val_col = global_df[node_names[loc_ind]+\"_max\"]\n",
    "        max_val = max_val_col[h]\n",
    "        max_stamps.append(max_val)\n",
    "        \n",
    "        ############\n",
    "        # FILTERING\n",
    "        ###########\n",
    "        \n",
    "        # Filter 1\n",
    "        # throw out if any node only heard from one peer\n",
    "        # (toggle off by commenting out logic block)\n",
    "        # MPKT note: This might be unnecessary, but doesn't hurt\n",
    "        if max_val - min_val == 0:\n",
    "            keep_data = 0 # throw out if any node only heard from ONE peer\n",
    "        \n",
    "        # Filter 2\n",
    "        # throw out if ANY node did not hear the block\n",
    "        # (toggle off by commenting out logic block)\n",
    "        if math.isnan(max_val):\n",
    "            keep_data = 0 \n",
    "    \n",
    "    # Keep track \n",
    "    global_min = min(min_stamps)\n",
    "    min_list.append(global_min)\n",
    "    global_max = max(max_stamps)\n",
    "    max_list.append(global_max)\n",
    "    global_prop = global_max - global_min\n",
    "    \n",
    "    if keep_data:\n",
    "        prop_list.append(global_prop)\n",
    "    else:\n",
    "        prop_list.append(np.nan)\n",
    "    \n",
    "# Transfer from bufffers to data frame\n",
    "global_df['global_min'] = min_list\n",
    "global_df['global_max'] = max_list\n",
    "global_df['global_prop_time'] = prop_list;"
   ]
  },
  {
   "cell_type": "markdown",
   "metadata": {},
   "source": [
    "## Clean up the data"
   ]
  },
  {
   "cell_type": "code",
   "execution_count": 9,
   "metadata": {},
   "outputs": [
    {
     "name": "stdout",
     "output_type": "stream",
     "text": [
      "Number of blocks: 7080\n"
     ]
    }
   ],
   "source": [
    "# Remove NaNs\n",
    "global_df = global_df[global_df['global_prop_time']>0]\n",
    "global_df_clean = global_df.dropna();\n",
    "global_df_clean = global_df_clean.sort_values(by='Height')\n",
    "print(\"Number of blocks: \" + str(len(global_df)))"
   ]
  },
  {
   "cell_type": "code",
   "execution_count": 10,
   "metadata": {},
   "outputs": [],
   "source": [
    "temp_clean = global_df_clean"
   ]
  },
  {
   "cell_type": "markdown",
   "metadata": {},
   "source": [
    "### Hacky sync fix\n",
    "\n",
    "To eliminate artifacts from syncing nodes, we can throw out any data point whose prop time was less than the data point before it.\n",
    "\n",
    "Assuming that the prop time of block N+1 doesn't depend on prop time of block N (which I believe to be true) then there's a 50/50 chance that a prop_time(N+1) < prop_time(N)\n",
    "\n",
    "And for a sync, there's 100% chance that prop_time(N+1) < prop_time(N)\n",
    "\n",
    "So if we throw out every data point that satisfies \"prop_time(N+1) < prop_time(N)\" we will eliminate 100% of the artifacts, and 50% of the legit data points\n",
    "\n",
    "This is statistical duct tape and should be replaced with a better method, but for now it should remove artifacts from the data set without introducing bias."
   ]
  },
  {
   "cell_type": "code",
   "execution_count": 11,
   "metadata": {},
   "outputs": [
    {
     "name": "stdout",
     "output_type": "stream",
     "text": [
      "Sample size: 7053\n"
     ]
    }
   ],
   "source": [
    "global_df_clean = temp_clean\n",
    "hack_epsilon = 0\n",
    "print(\"Sample size: \" + str(len(global_df_clean)))\n",
    "\n",
    "if remove_sync_hack:\n",
    "    \n",
    "    ## Show extant data\n",
    "    fig = plt.figure(figsize=(10,5), facecolor='w')\n",
    "    plt.scatter(x=global_df_clean['Height'], y=global_df_clean['global_prop_time'], color='red')\n",
    "    plt.xlabel('PRE FILTER')\n",
    "    plt.ylabel('Global propagation time (ms)')\n",
    "    plt.title('Observed block propagation time ('+str(len(node_names))+' global nodes)');\n",
    "    \n",
    "    temp_df = global_df_clean.diff()\n",
    "    global_df_clean = global_df_clean[temp_df['global_prop_time']>hack_epsilon]\n",
    "    \n",
    "    plt.scatter(x=global_df_clean['Height'], y=global_df_clean['global_prop_time'], color='blue')\n",
    "\n",
    "    print(\"Sample size: \" + str(len(global_df_clean)))"
   ]
  },
  {
   "cell_type": "markdown",
   "metadata": {},
   "source": [
    "## Review data "
   ]
  },
  {
   "cell_type": "markdown",
   "metadata": {},
   "source": [
    "## Visualize data"
   ]
  },
  {
   "cell_type": "markdown",
   "metadata": {},
   "source": [
    "### Probability density function plot\n",
    "\n",
    "First, let's look at histograms of the global propagation time.\n",
    "\n",
    "The first plot uses linear axes, and the second plot shows the same thing with log axes.\n",
    "\n",
    "This is called the \"probability density function\" (PDF)"
   ]
  },
  {
   "cell_type": "code",
   "execution_count": 12,
   "metadata": {},
   "outputs": [
    {
     "data": {
      "image/png": "[encoded data removed]",
      "text/plain": [
       "<Figure size 720x360 with 1 Axes>"
      ]
     },
     "metadata": {},
     "output_type": "display_data"
    },
    {
     "data": {
      "image/png": "[encoded data removed]",
      "text/plain": [
       "<Figure size 720x360 with 1 Axes>"
      ]
     },
     "metadata": {},
     "output_type": "display_data"
    }
   ],
   "source": [
    "# Linear plot\n",
    "height_hist = plt.figure(figsize=(10,5), facecolor='w')\n",
    "plt.hist(global_df_clean['global_prop_time'], bins=100)\n",
    "plt.xlabel('last-first timestamp (ms)')\n",
    "plt.ylabel('Frequency')\n",
    "plt.title('Observed block propagation time (4 global nodes)')\n",
    "\n",
    "# Log plot\n",
    "height_hist = plt.figure(figsize=(10,5), facecolor='w')\n",
    "plt.hist(global_df_clean['global_prop_time'], bins=np.logspace(np.log10(min(global_df_clean['global_prop_time'][global_df_clean['global_prop_time']>0])),np.log10(max(global_df_clean['global_prop_time'])), 100) );plt.yscale('log')\n",
    "plt.xscale('log')\n",
    "plt.xlabel('last-first timestamp (ms)')\n",
    "plt.ylabel('Frequency')\n",
    "plt.title('Observed block propagation time (4 global nodes)');"
   ]
  },
  {
   "cell_type": "markdown",
   "metadata": {},
   "source": [
    "### Cumulative distribution function plot\n",
    "\n",
    "Now let's look at a closely-related plot, the \"cumulative distribution function\" (CDF)\n",
    "\n",
    "Crosshairs have been added to show how to interpret this plot. (Note that when the data are updated, the static crosshairs may not match up with the plot / data anymore)\n",
    "\n",
    "For a given crosshair, <y-axis coordinate> fraction of blocks propagate in under <x-axis coordinate> seconds\n",
    "    \n",
    "Black line shows that 50% of blocks propagate in under 20 ms. Red line shows that 85% of blocks propagate in under 300 ms (meaning that 15% of Zcash blocks take more than 800 ms to propagate)"
   ]
  },
  {
   "cell_type": "code",
   "execution_count": 13,
   "metadata": {},
   "outputs": [
    {
     "data": {
      "image/png": "[encoded data removed]",
      "text/plain": [
       "<Figure size 720x360 with 1 Axes>"
      ]
     },
     "metadata": {},
     "output_type": "display_data"
    }
   ],
   "source": [
    "# Generate plot\n",
    "\n",
    "height_hist = plt.figure(figsize=(10,5), facecolor='w')\n",
    "plt.hist(global_df_clean['global_prop_time'], bins=np.logspace(np.log10(min(global_df_clean['global_prop_time'][global_df_clean['global_prop_time']>0])),np.log10(max(global_df_clean['global_prop_time'])), 100), cumulative=True, density=True);\n",
    "#plt.yscale('log')\n",
    "plt.xscale('log')\n",
    "plt.xlabel('last-first timestamp (ms)')\n",
    "plt.ylabel('Frequency')\n",
    "plt.title('Observed block propagation time (4 global nodes)')\n",
    "\n",
    "\n",
    "# Add labels to explain\n",
    "plt.axvline(x=18, color='black')\n",
    "plt.axhline(y=0.5, color='black')\n",
    "plt.axvline(x=300, color='red')\n",
    "plt.axhline(y=0.85, color='red');"
   ]
  },
  {
   "cell_type": "markdown",
   "metadata": {},
   "source": [
    "### Scatter plot\n",
    "\n",
    "Now let's plot each block as a dot where x-axis is the block height, and y-axis is the observed global propagation time"
   ]
  },
  {
   "cell_type": "code",
   "execution_count": 14,
   "metadata": {},
   "outputs": [
    {
     "data": {
      "image/png": "[encoded data removed]",
      "text/plain": [
       "<Figure size 720x360 with 1 Axes>"
      ]
     },
     "metadata": {},
     "output_type": "display_data"
    }
   ],
   "source": [
    "fig = plt.figure(figsize=(10,5), facecolor='w')\n",
    "plt.scatter(x=global_df_clean['Height'], y=global_df_clean['global_prop_time'])\n",
    "plt.xlabel('last-first timestamp (ms)')\n",
    "plt.ylabel('Global propagation time (ms)')\n",
    "plt.title('Observed block propagation time ('+str(len(node_names))+' global nodes)');"
   ]
  },
  {
   "cell_type": "markdown",
   "metadata": {},
   "source": [
    "Ah, we see these downward-sloping strings of blocks when the \"last\" timestamp is from a node that booted up later and requested old blocks. Thus, these are anomalous data points (not representative of propagation time *at time of broadcast*) so we should figure out a way to filter these out. Let's zoom in to see the real propagation times"
   ]
  },
  {
   "cell_type": "code",
   "execution_count": 15,
   "metadata": {},
   "outputs": [
    {
     "data": {
      "text/plain": [
       "(0, 80)"
      ]
     },
     "execution_count": 15,
     "metadata": {},
     "output_type": "execute_result"
    },
    {
     "data": {
      "image/png": "[encoded data removed]",
      "text/plain": [
       "<Figure size 1080x360 with 1 Axes>"
      ]
     },
     "metadata": {},
     "output_type": "display_data"
    }
   ],
   "source": [
    "height_hist = plt.figure(figsize=(15,5), facecolor='w')\n",
    "plt.scatter(x=global_df_clean['Height'], y=global_df_clean['global_prop_time'])\n",
    "plt.xlabel('last-first timestamp (ms)')\n",
    "plt.ylabel('Global propagation time (ms)')\n",
    "plt.title('Observed block propagation time ('+str(len(node_names))+' global nodes)');\n",
    "plt.ylim([0,80])\n",
    "\n",
    "# Optional, add lines:\n",
    "# tempdf = global_df_clean.sort_values(by='Height')\n",
    "# plt.plot(tempdf['Height'], tempdf['global_prop_time'],color='gray', linewidth=1, linestyle='dashed');"
   ]
  },
  {
   "cell_type": "markdown",
   "metadata": {},
   "source": [
    "### Heatmap plots\n",
    "(same concept as the scatter plots above, except shaded)"
   ]
  },
  {
   "cell_type": "code",
   "execution_count": 16,
   "metadata": {},
   "outputs": [
    {
     "data": {
      "image/png": "[encoded data removed]",
      "text/plain": [
       "<Figure size 1080x360 with 2 Axes>"
      ]
     },
     "metadata": {},
     "output_type": "display_data"
    },
    {
     "data": {
      "image/png": "[encoded data removed]",
      "text/plain": [
       "<Figure size 1080x360 with 2 Axes>"
      ]
     },
     "execution_count": 16,
     "metadata": {},
     "output_type": "execute_result"
    }
   ],
   "source": [
    "Heatmap(x=global_df_clean['Height'], y=global_df_clean['global_prop_time'], ymax=50, vmax=3)"
   ]
  },
  {
   "cell_type": "markdown",
   "metadata": {},
   "source": [
    "## Save data\n",
    "Data frame to CSV if desired"
   ]
  },
  {
   "cell_type": "code",
   "execution_count": 17,
   "metadata": {},
   "outputs": [],
   "source": [
    "if savedata:\n",
    "    global_df_clean.to_csv('global_df_clean.csv', index_label = 'block_hash')"
   ]
  }
 ],
 "metadata": {
  "kernelspec": {
   "display_name": "Python 3",
   "language": "python",
   "name": "python3"
  },
  "language_info": {
   "codemirror_mode": {
    "name": "ipython",
    "version": 3
   },
   "file_extension": ".py",
   "mimetype": "text/x-python",
   "name": "python",
   "nbconvert_exporter": "python",
   "pygments_lexer": "ipython3",
   "version": "3.7.3"
  }
 },
 "nbformat": 4,
 "nbformat_minor": 2
}
